{
 "cells": [
  {
   "cell_type": "markdown",
   "metadata": {},
   "source": [
    "# Introducción a herramientas"
   ]
  },
  {
   "cell_type": "markdown",
   "metadata": {},
   "source": [
    "En este cuaderno vamos a familiarizarnos un poco más con Python, NumPy y Pandas. \n",
    "\n",
    "NumPy es la librería más importante de procesamiento científico de Python. Lo más importante es que da acceso a arreglos de muchas dimensiones con gran desempeño. Un arreglo en Python es una lista de datos donde todos son del mismo dato y están indexados como enteros. Primero vamos a repasar brevemente listas normales para tener un punto de comparación."
   ]
  },
  {
   "cell_type": "code",
   "execution_count": null,
   "metadata": {},
   "outputs": [],
   "source": [
    "lis = [1, 2, 3, 4]\n",
    "print(lis)"
   ]
  },
  {
   "cell_type": "code",
   "execution_count": null,
   "metadata": {},
   "outputs": [],
   "source": [
    "lis[0]"
   ]
  },
  {
   "cell_type": "code",
   "execution_count": null,
   "metadata": {},
   "outputs": [],
   "source": [
    "lis[1:3]"
   ]
  },
  {
   "cell_type": "code",
   "execution_count": null,
   "metadata": {},
   "outputs": [],
   "source": [
    "lis[0:]"
   ]
  },
  {
   "cell_type": "code",
   "execution_count": null,
   "metadata": {},
   "outputs": [],
   "source": [
    "lis[-1]"
   ]
  },
  {
   "cell_type": "markdown",
   "metadata": {},
   "source": [
    "Un arreglo de NumPy se puede construir con una lista. Para comenzar, debemos importar NumPy. Asegúrate de entender todo."
   ]
  },
  {
   "cell_type": "code",
   "execution_count": null,
   "metadata": {},
   "outputs": [],
   "source": [
    "import numpy as np\n",
    "a = np.array([1, 2, 3])\n",
    "print(type(a))"
   ]
  },
  {
   "cell_type": "code",
   "execution_count": null,
   "metadata": {},
   "outputs": [],
   "source": [
    "print(a.shape)            \n",
    "print(a[0], a[1], a[2])   "
   ]
  },
  {
   "cell_type": "code",
   "execution_count": null,
   "metadata": {},
   "outputs": [],
   "source": [
    "a[0] = 5                \n",
    "print(a)                 "
   ]
  },
  {
   "cell_type": "markdown",
   "metadata": {},
   "source": [
    "NumPy da funciones para crear arreglos comunes. Recuerda que las matrices son arreglos de arreglos."
   ]
  },
  {
   "cell_type": "code",
   "execution_count": null,
   "metadata": {},
   "outputs": [],
   "source": [
    "np.zeros((2,2))"
   ]
  },
  {
   "cell_type": "code",
   "execution_count": null,
   "metadata": {},
   "outputs": [],
   "source": [
    "np.ones((3,4))"
   ]
  },
  {
   "cell_type": "code",
   "execution_count": null,
   "metadata": {},
   "outputs": [],
   "source": [
    "np.eye(5) "
   ]
  },
  {
   "cell_type": "code",
   "execution_count": null,
   "metadata": {},
   "outputs": [],
   "source": [
    "np.random.random((2,2))"
   ]
  },
  {
   "cell_type": "markdown",
   "metadata": {},
   "source": [
    "### Slicing\n",
    "Slicing es un tema importante de Python. En NumPy, es slicing de arreglos es similar al de las listas. Es importante entender esto pues nos permitirá manipular matrices con facilidad."
   ]
  },
  {
   "cell_type": "code",
   "execution_count": null,
   "metadata": {},
   "outputs": [],
   "source": [
    "a = np.array([[1,2,3,4], [5,6,7,8], [9,10,11,12]])\n",
    "a"
   ]
  },
  {
   "cell_type": "code",
   "execution_count": null,
   "metadata": {},
   "outputs": [],
   "source": [
    "print(a.size)\n",
    "print(a.shape)"
   ]
  },
  {
   "cell_type": "markdown",
   "metadata": {},
   "source": [
    "El primer elemento indica las filas y el segundo las columnas. Aquí se indica que se quiere todos los elementos hasta el anterior a la segunda fila, y todas las columnas de la primera a la tercera, sin incluirla."
   ]
  },
  {
   "cell_type": "code",
   "execution_count": null,
   "metadata": {},
   "outputs": [],
   "source": [
    "a[:2, 1:3]"
   ]
  },
  {
   "cell_type": "code",
   "execution_count": null,
   "metadata": {},
   "outputs": [],
   "source": [
    "# Ten cuidado porque sigue apuntando a la misma localidad en la memoria de la computadora.\n",
    "b = a[:2, 1:3]\n",
    "b[0, 0] = 77 \n",
    "a[0, 1]"
   ]
  },
  {
   "cell_type": "markdown",
   "metadata": {},
   "source": [
    "### Matemáticas"
   ]
  },
  {
   "cell_type": "code",
   "execution_count": null,
   "metadata": {},
   "outputs": [],
   "source": [
    "x = np.array([[1,2],[3,4]], dtype=np.float64)\n",
    "y = np.array([[5,6],[7,8]], dtype=np.float64)\n",
    "print(x)\n",
    "print(y)"
   ]
  },
  {
   "cell_type": "code",
   "execution_count": null,
   "metadata": {},
   "outputs": [],
   "source": [
    "x + y"
   ]
  },
  {
   "cell_type": "code",
   "execution_count": null,
   "metadata": {},
   "outputs": [],
   "source": [
    "np.add(x,y)"
   ]
  },
  {
   "cell_type": "code",
   "execution_count": null,
   "metadata": {},
   "outputs": [],
   "source": [
    "# Multiplicación por elemento\n",
    "print(x * y)\n",
    "print(np.multiply(x, y))"
   ]
  },
  {
   "cell_type": "code",
   "execution_count": null,
   "metadata": {},
   "outputs": [],
   "source": [
    "# Multiplicación de matrices. Es tanto un método de los arreglos como función de la librería\n",
    "print(x.dot(y))\n",
    "print(np.dot(x, y))"
   ]
  },
  {
   "cell_type": "code",
   "execution_count": null,
   "metadata": {},
   "outputs": [],
   "source": [
    "# TODO: Saca el promedio y desviación estandar de x\n",
    "mean = ...\n",
    "std = ...\n",
    "\n",
    "print(mean)\n",
    "print(std)"
   ]
  },
  {
   "cell_type": "code",
   "execution_count": null,
   "metadata": {},
   "outputs": [],
   "source": [
    "# TODO: Saca el máximo y el mínimo de x\n",
    "minElem = ...\n",
    "maxElem = ...\n",
    "\n",
    "print(minElem)\n",
    "print(maxElem)"
   ]
  },
  {
   "cell_type": "code",
   "execution_count": null,
   "metadata": {},
   "outputs": [],
   "source": [
    "# TODO: Saca la transpuesta de x\n",
    "trans = ...\n",
    "print(trans)"
   ]
  },
  {
   "cell_type": "code",
   "execution_count": null,
   "metadata": {},
   "outputs": [],
   "source": [
    "#TODO: Saca e^x\n",
    "exponential = ...\n",
    "print(exponential)"
   ]
  },
  {
   "cell_type": "code",
   "execution_count": null,
   "metadata": {},
   "outputs": [],
   "source": [
    "# TODO: Calcula la inversa de x\n",
    "x = np.array([[1,2],[3,4]])\n",
    "inv = ... \n",
    "print(inv)"
   ]
  },
  {
   "cell_type": "code",
   "execution_count": null,
   "metadata": {},
   "outputs": [],
   "source": [
    "# Agregamos una columna de 0s\n",
    "x = np.array([[1,2],[3,4], [5, 6]])\n",
    "a = [[0], [0], [0]]\n",
    "x = np.append(x, a, axis=1)\n",
    "x"
   ]
  },
  {
   "cell_type": "markdown",
   "metadata": {},
   "source": [
    "## Plotting\n",
    "\n",
    "Ahora veremos cómo hacer gráficas en Python. Corre la siguiente celda dos veces.\n",
    "\n",
    "### Plot normal"
   ]
  },
  {
   "cell_type": "code",
   "execution_count": null,
   "metadata": {},
   "outputs": [],
   "source": [
    "import matplotlib.pyplot as plt\n",
    "\n",
    "# Se crean 100 puntos para ir de 0 a 10\n",
    "x = np.linspace(0, 10, 100)\n",
    "\n",
    "# Se grafica\n",
    "plt.plot(x, x, label='linear')\n",
    "\n",
    "# Agregas una leyenda\n",
    "plt.legend()\n",
    "\n",
    "# Se despliega\n",
    "plt.show()\n",
    "print(x)"
   ]
  },
  {
   "cell_type": "markdown",
   "metadata": {},
   "source": [
    "### Plot con scatter plot"
   ]
  },
  {
   "cell_type": "code",
   "execution_count": null,
   "metadata": {},
   "outputs": [],
   "source": [
    "fig = plt.figure()\n",
    "plt.plot([1, 2, 3, 4], [10, 20, 25, 30], color='lightblue', linewidth=3)\n",
    "plt.scatter([0.3, 3.8, 1.2, 2.5], [11, 25, 9, 26], color='darkgreen', marker='^')\n",
    "plt.xlim(0.5, 4.5)\n",
    "plt.show()"
   ]
  },
  {
   "cell_type": "markdown",
   "metadata": {},
   "source": [
    "### Plot sobre plot (TODO)"
   ]
  },
  {
   "cell_type": "code",
   "execution_count": null,
   "metadata": {},
   "outputs": [],
   "source": [
    "# Crea una línea que vaya de 0 a 200 subiendo de 20 en 20\n",
    "xa = np.arange(0, 10)\n",
    "ya = np.arange(0, 200, 20)\n",
    "\n",
    "# TODO Crea otra línea que vaya de 200 a 100 bajando de 10 en 10\n",
    "xb = np.arange(0,10)\n",
    "yb = ...\n",
    "\n",
    "# Haz un plot linear de a y otro linear de b\n",
    "plt.plot(xa, ya, label='linear1')\n",
    "plt.plot(..., yb, label='linear1')\n",
    "\n",
    "# Se despliega\n",
    "plt.show()"
   ]
  },
  {
   "cell_type": "markdown",
   "metadata": {},
   "source": [
    "### Histograma de distribución normal"
   ]
  },
  {
   "cell_type": "code",
   "execution_count": null,
   "metadata": {},
   "outputs": [],
   "source": [
    "mu, sigma = 0, 0.1 # promedio y distribución estandar\n",
    "s = np.random.normal(mu, sigma, 1000)\n",
    "hist = plt.hist(s)"
   ]
  },
  {
   "cell_type": "markdown",
   "metadata": {},
   "source": [
    "## Pandas\n",
    "\n",
    "En esta sección aprenderemos un poco de Pandas y cómo utilizarlo.\n",
    "\n",
    "### Parte 1. Leer un CSV\n",
    "\n",
    "Un CSV es un tipo de archivo con información separada por comas. Podemos utilizar la función read_csv para leer el archivo. En esta parte estaremos utilizando información de ciclistas de Montréal. La información es [publica](http://donnees.ville.montreal.qc.ca/dataset/velos-comptage) pero ya está en el archivo bikes.csv del repositorio. Utilizaremos la info del 2012. Este dataset tiene una lista de cuántas personas hay en 7 caminos diferentes, cada día, en Montreal."
   ]
  },
  {
   "cell_type": "code",
   "execution_count": null,
   "metadata": {},
   "outputs": [],
   "source": [
    "import pandas as pd"
   ]
  },
  {
   "cell_type": "code",
   "execution_count": null,
   "metadata": {},
   "outputs": [],
   "source": [
    "broken_df = pd.read_csv('bikes.csv')\n",
    "broken_df[:5]"
   ]
  },
  {
   "cell_type": "markdown",
   "metadata": {},
   "source": [
    "Esto está claramente roto. Para comenzar, si ves la información, aquí en vez de estar separados por comas, están separados por punto y coma (;). ```read_csv``` tiene opciones que nos permitirá arreglarlo.\n",
    "* cambiar el separador a ;\n",
    "* parsear las fechas\n",
    "* hacer que el índice sea la columna Date\n",
    "* avisar que el formato tiene el día primero (DD/MM/YY en vez de MM/DD/YY)"
   ]
  },
  {
   "cell_type": "code",
   "execution_count": null,
   "metadata": {},
   "outputs": [],
   "source": [
    "fixed_df = pd.read_csv('bikes.csv', sep=';', parse_dates=['Date'], dayfirst=True, index_col='Date')\n",
    "fixed_df[:5]"
   ]
  },
  {
   "cell_type": "markdown",
   "metadata": {},
   "source": [
    "Pandas utiliza el DataFrame para guardar la información. Ya lo utilizaste en el problema del Titanic. El objeto DataFrame funciona como una tabla, tenemos columnas y filas. Conseguir los elementos de una columna es como extraer elementos de un diccionario de Python:"
   ]
  },
  {
   "cell_type": "code",
   "execution_count": null,
   "metadata": {},
   "outputs": [],
   "source": [
    "fixed_df[\"Berri 1\"]"
   ]
  },
  {
   "cell_type": "markdown",
   "metadata": {},
   "source": [
    "Para hacer un plot, sólo hay que agregar .plot() al DataFrame. Como hicimos el parse_date al arreglar la tabla, y marcar Date como el índice, se hará la gráfica respecto a este."
   ]
  },
  {
   "cell_type": "code",
   "execution_count": null,
   "metadata": {},
   "outputs": [],
   "source": [
    "fixed_df['Berri 1'].plot()"
   ]
  },
  {
   "cell_type": "markdown",
   "metadata": {},
   "source": [
    "También podemos graficar todas las columnas a la vez."
   ]
  },
  {
   "cell_type": "code",
   "execution_count": null,
   "metadata": {},
   "outputs": [],
   "source": [
    "fixed_df.plot(figsize=(15, 10))"
   ]
  },
  {
   "cell_type": "markdown",
   "metadata": {},
   "source": [
    "### Parte 2. Entendiendo el DataFrame y respondiendo preguntas\n",
    "\n",
    "Ahora utilizaremos una parte de un [dataset de quejas](https://nycopendata.socrata.com/Social-Services/311-Service-Requests-from-2010-to-Present/erm2-nwe9) de New York. Varias ciudades y países tienen datasets públicos con información abierta. Puedes buscar Mexico Datos Abiertos y encontrarás mucho. En la siguiente celda cargamos el dataset. Míralo e intenta entender lo que tiene."
   ]
  },
  {
   "cell_type": "code",
   "execution_count": null,
   "metadata": {},
   "outputs": [],
   "source": [
    "complaints = pd.read_csv('service_requests.csv')\n",
    "complaints"
   ]
  },
  {
   "cell_type": "code",
   "execution_count": null,
   "metadata": {},
   "outputs": [],
   "source": [
    "## TODO: Selecciona la columna con el tipo de complaint\n",
    "c_types = ...\n",
    "c_types[:5]"
   ]
  },
  {
   "cell_type": "markdown",
   "metadata": {},
   "source": [
    "También podemos seleccionar varias columnas a la vez"
   ]
  },
  {
   "cell_type": "code",
   "execution_count": null,
   "metadata": {},
   "outputs": [],
   "source": [
    "complaints[['Complaint Type', 'Borough']][:5]"
   ]
  },
  {
   "cell_type": "markdown",
   "metadata": {},
   "source": [
    "**¿Cuál es el tipo de complain más común?** ¡Lo resuelves en una línea!"
   ]
  },
  {
   "cell_type": "code",
   "execution_count": null,
   "metadata": {},
   "outputs": [],
   "source": [
    "complaint_counts = complaints['Complaint Type'].value_counts()\n",
    "complaint_counts[:10]"
   ]
  },
  {
   "cell_type": "markdown",
   "metadata": {},
   "source": [
    "Podemos hacer una gráfica de barras incluso."
   ]
  },
  {
   "cell_type": "code",
   "execution_count": null,
   "metadata": {},
   "outputs": [],
   "source": [
    "complaint_counts[:10].plot(kind='bar')"
   ]
  },
  {
   "cell_type": "markdown",
   "metadata": {},
   "source": [
    "Nos podemos quedar sólo con los complaints que sean por ruido. Para hacer esto, queremos que el Complain Type sea \"Noise - Street/Sidewalk\"."
   ]
  },
  {
   "cell_type": "code",
   "execution_count": null,
   "metadata": {},
   "outputs": [],
   "source": [
    "noise_complaints = complaints[complaints['Complaint Type'] == \"Noise - Street/Sidewalk\"]\n",
    "noise_complaints[:3]"
   ]
  },
  {
   "cell_type": "markdown",
   "metadata": {},
   "source": [
    "¿Cómo funciona? Veamos la parte de dentro:"
   ]
  },
  {
   "cell_type": "code",
   "execution_count": null,
   "metadata": {},
   "outputs": [],
   "source": [
    "complaints['Complaint Type'] == \"Noise - Street/Sidewalk\""
   ]
  },
  {
   "cell_type": "markdown",
   "metadata": {},
   "source": [
    "Esto es una lista de True y False para cada fila del DataFrame. Cuando indexamos el DataFrame con este arreglo, sólo conseguiremos las filas donde el valor es verdadero. \n",
    "\n",
    "También podemos juntar multiples condiciones:"
   ]
  },
  {
   "cell_type": "code",
   "execution_count": null,
   "metadata": {},
   "outputs": [],
   "source": [
    "is_noise = complaints['Complaint Type'] == \"Noise - Street/Sidewalk\"\n",
    "in_brooklyn = complaints['Borough'] == \"BROOKLYN\"\n",
    "complaints[is_noise & in_brooklyn][:5]"
   ]
  },
  {
   "cell_type": "markdown",
   "metadata": {},
   "source": [
    "O quedarnos con sólo algunas columnas"
   ]
  },
  {
   "cell_type": "code",
   "execution_count": null,
   "metadata": {},
   "outputs": [],
   "source": [
    "complaints[is_noise & in_brooklyn][['Complaint Type', 'Borough', 'Created Date', 'Descriptor']][:10]"
   ]
  },
  {
   "cell_type": "markdown",
   "metadata": {},
   "source": [
    "Por un lado, tenemos pd.Series, que es la estructura que compone el DataFrame."
   ]
  },
  {
   "cell_type": "code",
   "execution_count": null,
   "metadata": {},
   "outputs": [],
   "source": [
    "pd.Series([1,2,3])"
   ]
  },
  {
   "cell_type": "markdown",
   "metadata": {},
   "source": [
    "Por otro lado, tenemos el ```np.array```. Puede ser confuso porque parecen ser lo mismo. Realmente, ```pd.Series``` está compuesto por un ```np.array```. Si pones ```.values```al final del la serie, conseguirás el ```np.array```que lo compone"
   ]
  },
  {
   "cell_type": "code",
   "execution_count": null,
   "metadata": {},
   "outputs": [],
   "source": [
    "pd.Series([1,2,3]).values"
   ]
  },
  {
   "cell_type": "markdown",
   "metadata": {},
   "source": [
    "**¿Cuál es el barrio que tiene más quejas por ruido?**"
   ]
  },
  {
   "cell_type": "code",
   "execution_count": null,
   "metadata": {},
   "outputs": [],
   "source": [
    "is_noise = complaints['Complaint Type'] == \"Noise - Street/Sidewalk\"\n",
    "noise_complaints = complaints[is_noise]\n",
    "noise_complaints['Borough'].value_counts()"
   ]
  },
  {
   "cell_type": "markdown",
   "metadata": {},
   "source": [
    "¡Es Manhattan! ¿Pero cómo hacemos si queremos tenerlo como porcentajes? Sólo habría que dividir entre el total."
   ]
  },
  {
   "cell_type": "code",
   "execution_count": null,
   "metadata": {},
   "outputs": [],
   "source": [
    "noise_complaint_counts = noise_complaints['Borough'].value_counts()\n",
    "complaint_counts = complaints['Borough'].value_counts()"
   ]
  },
  {
   "cell_type": "code",
   "execution_count": null,
   "metadata": {},
   "outputs": [],
   "source": [
    "noise_complaint_counts / complaint_counts"
   ]
  },
  {
   "cell_type": "code",
   "execution_count": null,
   "metadata": {},
   "outputs": [],
   "source": [
    "(noise_complaint_counts / complaint_counts).plot(kind='bar')"
   ]
  },
  {
   "cell_type": "markdown",
   "metadata": {},
   "source": [
    "Recuerda tener cuidado con los tipos. En este caso, salió bien, pero a veces es necesario poner .astype(float) o (float) para asegurarse que el número sea un número real y no un número entero. Esto previene muchos errores comunes, como dividir entre 0."
   ]
  },
  {
   "cell_type": "markdown",
   "metadata": {},
   "source": [
    "### Aprendiendo del dataset\n",
    "\n",
    "Regresaremos a nuestro dataset de bicicletas de Montreal. ¿Podemos determinar si es una ciudad en la que la gente utiliza bicicleta para hacer commute o si es una ciudad que utiliza bicicleta por diversión? ¿Cuándo se usa más la bicicleta? Empezaremos mirando una de las rutas, Berri. Si la tabla de resultado sale un poco rara no te preocupes."
   ]
  },
  {
   "cell_type": "code",
   "execution_count": null,
   "metadata": {},
   "outputs": [],
   "source": [
    "bikes = fixed_df\n",
    "berri_bikes = bikes[['Berri 1']]\n",
    "berri_bikes[:5]"
   ]
  },
  {
   "cell_type": "markdown",
   "metadata": {},
   "source": [
    "Como vimos antes, aquí el index es Date. A partir de este índice podemos determinar qué día de la semana es. "
   ]
  },
  {
   "cell_type": "code",
   "execution_count": null,
   "metadata": {},
   "outputs": [],
   "source": [
    "berri_bikes.index"
   ]
  },
  {
   "cell_type": "markdown",
   "metadata": {},
   "source": [
    "No tenemos la info de todos los días, sólo de 310, así que no parecer ser una tarea tan fácil. Por suerte, Pandas tiene muy buenas herramientas para manejar días y series de tiempos."
   ]
  },
  {
   "cell_type": "code",
   "execution_count": null,
   "metadata": {},
   "outputs": [],
   "source": [
    "berri_bikes.index.day"
   ]
  },
  {
   "cell_type": "code",
   "execution_count": null,
   "metadata": {},
   "outputs": [],
   "source": [
    "berri_bikes.index.weekday"
   ]
  },
  {
   "cell_type": "markdown",
   "metadata": {},
   "source": [
    "Podemos agregar una columna nueva con el día de la semana de cada registro"
   ]
  },
  {
   "cell_type": "code",
   "execution_count": null,
   "metadata": {},
   "outputs": [],
   "source": [
    "berri_bikes['weekday'] = berri_bikes.index.weekday\n",
    "berri_bikes[:5]"
   ]
  },
  {
   "cell_type": "markdown",
   "metadata": {},
   "source": [
    "Hay un método llamado ```groupby()``` basado en un lenguaje de las bases de datos, SQL. Aquí me voy a enfocar en cómo utilizarlo. Intenta entender qué pasa, no te enfoques en el cómo lo hace. Si quieres aprender más, puedes revisar la [documentación](http://pandas.pydata.org/pandas-docs/stable/groupby.html).\n",
    "\n",
    "En la siguiente línea lo que decimos es: Agrupa las filas por el día de la semana, y luego suma los valores con el mismo día de la semana."
   ]
  },
  {
   "cell_type": "code",
   "execution_count": null,
   "metadata": {},
   "outputs": [],
   "source": [
    "weekday_counts = berri_bikes.groupby('weekday').aggregate(sum)\n",
    "weekday_counts"
   ]
  },
  {
   "cell_type": "markdown",
   "metadata": {},
   "source": [
    "Tener días del 0 al 6 es una mala experiencia para cualquier lector de tablas, así que podemos cambiar el índice directamente."
   ]
  },
  {
   "cell_type": "code",
   "execution_count": null,
   "metadata": {},
   "outputs": [],
   "source": [
    "weekday_counts.index = ['Monday', 'Tuesday', 'Wednesday', 'Thursday', 'Friday', 'Saturday', 'Sunday']\n",
    "weekday_counts"
   ]
  },
  {
   "cell_type": "code",
   "execution_count": null,
   "metadata": {},
   "outputs": [],
   "source": [
    "# TODO: Haz una gráfica de barras con weekday_counts"
   ]
  },
  {
   "cell_type": "markdown",
   "metadata": {},
   "source": [
    "Con esto podemos concluir que los ciclistas de Montreal son más de commuting que como entretenimiento. \n",
    "\n",
    "Hay mucho más de estas herramientas, pero iremos aprendiendo en el camino. "
   ]
  }
 ],
 "metadata": {
  "kernelspec": {
   "display_name": "Python 3",
   "language": "python",
   "name": "python3"
  },
  "language_info": {
   "codemirror_mode": {
    "name": "ipython",
    "version": 3
   },
   "file_extension": ".py",
   "mimetype": "text/x-python",
   "name": "python",
   "nbconvert_exporter": "python",
   "pygments_lexer": "ipython3",
   "version": "3.5.4"
  }
 },
 "nbformat": 4,
 "nbformat_minor": 2
}

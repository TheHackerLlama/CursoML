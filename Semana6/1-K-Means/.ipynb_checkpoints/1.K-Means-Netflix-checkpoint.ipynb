{
 "cells": [
  {
   "cell_type": "markdown",
   "metadata": {},
   "source": [
    "# K-means\n",
    "\n",
    "Digamos que eres un analista de datos en Netflix y quieres explorar las similutdes y deferencias en los gustos de películas a partir de cómo califican estas. ¿Entender estos ratings contribuye a un sistema de recomendación de películas para los usuarios?\n",
    "\n",
    "Utilizaremos el dataset [MovieLens](https://movielens.org/). Iniciaremos comparando los géneros y luego procederemos a observar los ratings individuales.\n",
    "\n",
    "## Dataset\n",
    "Puedes revisar info general del dataset aquí: https://grouplens.org/datasets/movielens/"
   ]
  },
  {
   "cell_type": "code",
   "execution_count": null,
   "metadata": {},
   "outputs": [],
   "source": [
    "import pandas as pd\n",
    "import matplotlib.pyplot as plt\n",
    "import numpy as np\n",
    "from scipy.sparse import csr_matrix\n",
    "import helper\n",
    "\n",
    "# Import the Movies dataset\n",
    "movies = pd.read_csv('ml-latest-small/movies.csv')\n",
    "movies.head()"
   ]
  },
  {
   "cell_type": "code",
   "execution_count": null,
   "metadata": {},
   "outputs": [],
   "source": [
    "# Import the ratings dataset\n",
    "ratings = pd.read_csv('ml-latest-small/ratings.csv')\n",
    "ratings.head()"
   ]
  },
  {
   "cell_type": "code",
   "execution_count": null,
   "metadata": {},
   "outputs": [],
   "source": [
    "print('The dataset contains: ', len(ratings), ' ratings of ', len(movies), ' movies.')"
   ]
  },
  {
   "cell_type": "markdown",
   "metadata": {},
   "source": [
    "# Romance vs. Scifi\n",
    "Iniciaremos tomando un subconjunto de los usuarios y viendo sus géneros preferidos. Para este cuaderno, gran parte del preprocesamiento ya está implementado en funciones helper para que te puedas enfocar en clustering. Te sugiero dar una revisada a los nombres de las funciones de `helper.py` y revises cómo están implementadas de manera general."
   ]
  },
  {
   "cell_type": "code",
   "execution_count": null,
   "metadata": {},
   "outputs": [],
   "source": [
    "# Calculate the average rating of romance and scifi movies\n",
    "\n",
    "genre_ratings = helper.get_genre_ratings(ratings, movies, ['Romance', 'Sci-Fi'], ['avg_romance_rating', 'avg_scifi_rating'])\n",
    "genre_ratings.head()"
   ]
  },
  {
   "cell_type": "markdown",
   "metadata": {},
   "source": [
    "La función `get_genre_ratings` calculó el rating promedio para todas las películas románticas y de scifi para cada usuario. Vamos a aumentar un poco el bias en el dataset y eliminaremos a las personas a las que le gsutan ambos tipos de películas, sólo para que los clusters puedan definir los usuarios como si les gustara más un género que el otro."
   ]
  },
  {
   "cell_type": "code",
   "execution_count": null,
   "metadata": {},
   "outputs": [],
   "source": [
    "biased_dataset = helper.bias_genre_rating_dataset(genre_ratings, 3.2, 2.5)\n",
    "\n",
    "print( \"Number of records: \", len(biased_dataset))\n",
    "biased_dataset.head()"
   ]
  },
  {
   "cell_type": "markdown",
   "metadata": {},
   "source": [
    "Tenemos 183 usuarios y para cada usuario tenemos el rating promedio para los dos géneros. Vamos a hacer un plot:"
   ]
  },
  {
   "cell_type": "code",
   "execution_count": null,
   "metadata": {},
   "outputs": [],
   "source": [
    "%matplotlib inline\n",
    "\n",
    "helper.draw_scatterplot(biased_dataset['avg_scifi_rating'],'Avg scifi rating', biased_dataset['avg_romance_rating'], 'Avg romance rating')"
   ]
  },
  {
   "cell_type": "code",
   "execution_count": null,
   "metadata": {},
   "outputs": [],
   "source": [
    "# Let's turn our dataset into a list\n",
    "X = biased_dataset[['avg_scifi_rating','avg_romance_rating']].values"
   ]
  },
  {
   "cell_type": "markdown",
   "metadata": {},
   "source": [
    "* Importa KMeans de scikit learn\n",
    "* Preparalo para 2 clusters\n",
    "* Envía el dataset X al método `fit_predict` y revisa las predicciones\n",
    "\n",
    "http://scikit-learn.org/stable/modules/generated/sklearn.cluster.KMeans.html"
   ]
  },
  {
   "cell_type": "code",
   "execution_count": null,
   "metadata": {},
   "outputs": [],
   "source": [
    "# TODO: Import KMeans\n",
    "\n",
    "# TODO: Create an instance of KMeans to find two clusters\n",
    "kmeans_1 = \n",
    "\n",
    "# TODO: use fit_predict to cluster the dataset\n",
    "predictions = \n",
    "\n",
    "# Plot\n",
    "helper.draw_clusters(biased_dataset, predictions)"
   ]
  },
  {
   "cell_type": "markdown",
   "metadata": {},
   "source": [
    "Podemos ver que el grupo realmente sólo depende de cómo se ha calificado las películas románticas. Si el ratng es mayor a 3, pertenece a un grupo. Sino, pertenece al otro.\n",
    "\n",
    "Repitamos pero haciendo 3 grupos y veamos qué ocurre:"
   ]
  },
  {
   "cell_type": "code",
   "execution_count": null,
   "metadata": {},
   "outputs": [],
   "source": [
    "# TODO: Create an instance of KMeans to find three clusters\n",
    "kmeans_2 = \n",
    "\n",
    "# TODO: use fit_predict to cluster the dataset\n",
    "predictions_2 = \n",
    "\n",
    "# Plot\n",
    "helper.draw_clusters(biased_dataset, predictions_2)"
   ]
  },
  {
   "cell_type": "markdown",
   "metadata": {},
   "source": [
    "Ahora el rating en scifi si se usa. Los grupos son\n",
    "* Si te gusta romance pero no scifi\n",
    "* Si te gusta scifi pero no romance\n",
    "* Si te gustan ambas\n",
    "\n",
    "Repitamos pero con 4 clusters:"
   ]
  },
  {
   "cell_type": "code",
   "execution_count": null,
   "metadata": {},
   "outputs": [],
   "source": [
    "# TODO: Create an instance of KMeans to find four clusters\n",
    "kmeans_3 =\n",
    "\n",
    "# TODO: use fit_predict to cluster the dataset\n",
    "predictions_3 =\n",
    "\n",
    "# Plot\n",
    "helper.draw_clusters(biased_dataset, predictions_3)"
   ]
  },
  {
   "cell_type": "markdown",
   "metadata": {},
   "source": [
    "Como puedes ver, mientras tengamos más clusters, más parecido son los gustos de las personas en cada cluster.\n",
    "\n",
    "## Elegir K\n",
    "¿Cuál es el número correcto de clusters? Hay [muchas](https://en.wikipedia.org/wiki/Determining_the_number_of_clusters_in_a_data_set) maneras de determinar el número de clusters, K. Utilizaremos un método simple llamado \"elbow method\". Este método trabaja haciendo un plot de valores ascendentes de k vs el error calculado de cada k. Una manera de calcular el error es el error cuadrado. Digamos que k=2. Tendremos dos clusters con un punto centroide. Para cada punto del dataset, calculamos la distancia con cada punto, la elevamos al cuadrado y los sumamos. Esto nos da el error de cada punto. Si sumamos todos los errores, nos da el error total cuando k=2. Nuestro objetivo es calcular el error para cada K, desde 1 hasta un número definido, que puede ser el número total de elementos en el dataset."
   ]
  },
  {
   "cell_type": "code",
   "execution_count": null,
   "metadata": {},
   "outputs": [],
   "source": [
    "df = biased_dataset[['avg_scifi_rating','avg_romance_rating']]\n",
    "\n",
    "# Choose the range of k values to test.\n",
    "# We added a stride of 5 to improve performance. We don't need to calculate the error for every k value\n",
    "possible_k_values = range(2, len(X)+1, 5) # El 5 es para ir dando saltos de 5 en 5\n",
    "\n",
    "# Calculate error values for all k values we're interested in\n",
    "errors_per_k = [helper.clustering_errors(k, X) for k in possible_k_values]"
   ]
  },
  {
   "cell_type": "code",
   "execution_count": null,
   "metadata": {},
   "outputs": [],
   "source": [
    "# Look at the values of K vs the silhouette score of running K-means with that value of k\n",
    "list(zip(possible_k_values, errors_per_k))"
   ]
  },
  {
   "cell_type": "code",
   "execution_count": null,
   "metadata": {},
   "outputs": [],
   "source": [
    "# Plot the each value of K vs. the silhouette score at that value\n",
    "fig, ax = plt.subplots(figsize=(16, 6))\n",
    "plt.plot(possible_k_values, errors_per_k)\n",
    "\n",
    "# Ticks and grid\n",
    "xticks = np.arange(min(possible_k_values), max(possible_k_values)+1, 5.0)\n",
    "ax.set_xticks(xticks, minor=False)\n",
    "ax.set_xticks(xticks, minor=True)\n",
    "ax.xaxis.grid(True, which='both')\n",
    "yticks = np.arange(round(min(errors_per_k), 2), max(errors_per_k), .05)\n",
    "ax.set_yticks(yticks, minor=False)\n",
    "ax.set_yticks(yticks, minor=True)\n",
    "ax.yaxis.grid(True, which='both')"
   ]
  },
  {
   "cell_type": "markdown",
   "metadata": {},
   "source": [
    "Aquí estamos graficando un puntaje (puntaje silueta). Algunas buenas decisiones de k incluyen 7, 22, 27, 32 y 47, entre otros. Seguir aumentando los valores de K empieza a resultar con peores clusters según este puntaje. Una buena decisión es K=7 porque es fácil de visualizar."
   ]
  },
  {
   "cell_type": "code",
   "execution_count": null,
   "metadata": {},
   "outputs": [],
   "source": [
    "# TODO: Create an instance of KMeans to find seven clusters\n",
    "kmeans_4 =\n",
    "\n",
    "# TODO: use fit_predict to cluster the dataset\n",
    "predictions_4 = \n",
    "\n",
    "# plot\n",
    "helper.draw_clusters(biased_dataset, predictions_4, cmap='Accent') "
   ]
  },
  {
   "cell_type": "markdown",
   "metadata": {},
   "source": [
    "Nota: Mientras intentes aumentar los valores de K, tendrás que asegurarte que tu librería de grafica no está reusando colores entre clusters. Aquí utilizamos cmap=\"Accent\" justo para evitar eso y para evitar poco contraste."
   ]
  },
  {
   "cell_type": "markdown",
   "metadata": {},
   "source": [
    "## Agregando más géneros\n",
    "\n",
    "Hasta el momento, sólo hemos utilizado el rating de romance y de películas de ciencia ficción. Es hora de agregar un género más: acción. Veamos cómo se ve el dataset."
   ]
  },
  {
   "cell_type": "code",
   "execution_count": null,
   "metadata": {},
   "outputs": [],
   "source": [
    "biased_dataset_3_genres = helper.get_genre_ratings(ratings, movies, \n",
    "                                                     ['Romance', 'Sci-Fi', 'Action'], \n",
    "                                                     ['avg_romance_rating', 'avg_scifi_rating', 'avg_action_rating'])\n",
    "biased_dataset_3_genres = helper.bias_genre_rating_dataset(biased_dataset_3_genres, 3.2, 2.5).dropna()\n",
    "\n",
    "print( \"Number of records: \", len(biased_dataset_3_genres))\n",
    "biased_dataset_3_genres.head()"
   ]
  },
  {
   "cell_type": "code",
   "execution_count": null,
   "metadata": {},
   "outputs": [],
   "source": [
    "X_with_action = biased_dataset_3_genres[['avg_scifi_rating',\n",
    "                                         'avg_romance_rating', \n",
    "                                         'avg_action_rating']].values"
   ]
  },
  {
   "cell_type": "code",
   "execution_count": null,
   "metadata": {},
   "outputs": [],
   "source": [
    "# TODO: Create an instance of KMeans to find seven clusters\n",
    "kmeans_5 =\n",
    "\n",
    "# TODO: use fit_predict to cluster the dataset\n",
    "predictions_5 = \n",
    "\n",
    "# plot\n",
    "helper.draw_clusters_3d(biased_dataset_3_genres, predictions_5)"
   ]
  },
  {
   "cell_type": "markdown",
   "metadata": {},
   "source": [
    "Todavía usamos x y y de la misma manera. Aquí, usamos el tamaño del punto para mostrar el rating de las películas de acción. Puntos grandes es si el rating es mayor a 3. Podemos ver cómo agregar un género cambió la manera en la que habían clusters. Mientras demos más información a k-means, los gustos de los usuarios en cada cluster serán más parecidos. Pero a la vez, perdemos la habilidad de visualizar qué está pasando si seguimos graficando de esta manera. Vamos a ver otras maneras de graficar que nos permitirán ver clusters de hasta 50 dimensiones."
   ]
  },
  {
   "cell_type": "markdown",
   "metadata": {},
   "source": [
    "# Clustering basado en películas\n",
    "\n",
    "Ahora que hemos establecido un poco de conocimiento en cómo agrupamos usuarios según sus gustos de género, vamos a ver cómo los usuarios han puntuado películas individuales. Para hacer esto, vamos a cambiar la forma del dataset - veremos el userID vs el rating del usuario para cada película. Por ejemplo:"
   ]
  },
  {
   "cell_type": "code",
   "execution_count": null,
   "metadata": {},
   "outputs": [],
   "source": [
    "# Merge the two tables then pivot so we have Users X Movies dataframe\n",
    "ratings_title = pd.merge(ratings, movies[['movieId', 'title']], on='movieId' )\n",
    "user_movie_ratings = pd.pivot_table(ratings_title, index='userId', columns= 'title', values='rating')\n",
    "\n",
    "print('dataset dimensions: ', user_movie_ratings.shape, '\\n\\nSubset example:')\n",
    "user_movie_ratings.iloc[:6, :10]"
   ]
  },
  {
   "cell_type": "markdown",
   "metadata": {},
   "source": [
    "NaN predomina porque los usuarios no han dado puntaje a todas las películas. Este tipo de datasets se llaman \"sparse\" o esparcidos porque sólo un pequeño número de celdas tienen valores.\n",
    "\n",
    "Para poder seguir trabajando, vamos a ordenar según las películas con más ratings y los usuarios que hayan dado puntaje al mayor número de películas. Esto nos permitirá ver una zona más densa del dataset."
   ]
  },
  {
   "cell_type": "code",
   "execution_count": null,
   "metadata": {},
   "outputs": [],
   "source": [
    "n_movies = 30\n",
    "n_users = 18\n",
    "most_rated_movies_users_selection = helper.sort_by_rating_density(user_movie_ratings, n_movies, n_users)\n",
    "\n",
    "print('dataset dimensions: ', most_rated_movies_users_selection.shape)\n",
    "most_rated_movies_users_selection.head()"
   ]
  },
  {
   "cell_type": "markdown",
   "metadata": {},
   "source": [
    "Esto está mejor. Vamos a establecer una buena manera de visualizar esto para que luego podamos aplicarlo a clusters. Usemos colores en vez de ratings."
   ]
  },
  {
   "cell_type": "code",
   "execution_count": null,
   "metadata": {},
   "outputs": [],
   "source": [
    "helper.draw_movies_heatmap(most_rated_movies_users_selection)"
   ]
  },
  {
   "cell_type": "markdown",
   "metadata": {},
   "source": [
    "Cada columna indica una película. Cada fila indica un usuario. El color de la celda indica de qué manera el usuario puntuó la película específica basándose en la escala indicada en la derecha. Unas celdas son blancas. Estas implican que ese usuario respectivo no calificó la película. Esto es muy común en clustering en la vida real. Por lo tanto, no es tan directo como hicimos antes. Por razones de desempeño y poder computacional, sólo vamos a utilizar ratings de mil películas en vez de los más de 9mil que tenemos disponibles."
   ]
  },
  {
   "cell_type": "code",
   "execution_count": null,
   "metadata": {},
   "outputs": [],
   "source": [
    "user_movie_ratings =  pd.pivot_table(ratings_title, index='userId', columns= 'title', values='rating')\n",
    "most_rated_movies_1k = helper.get_most_rated_movies(user_movie_ratings, 1000)"
   ]
  },
  {
   "cell_type": "markdown",
   "metadata": {},
   "source": [
    "Para que sklearn pueda correr k-means clustering en un dataset que le faltan valores, primero debemos convertirlo a una matriz de tipo sparse csr. Esto está definido en la librería SciPi. Para convertir un dataframe de Pandas a una matriz esparcida, tendremos que convertirla a `SparseDataFrame` y luego utilizar el método `to_coo()` para convertirlo."
   ]
  },
  {
   "cell_type": "code",
   "execution_count": null,
   "metadata": {},
   "outputs": [],
   "source": [
    "sparse_ratings = csr_matrix(pd.SparseDataFrame(most_rated_movies_1k).to_coo())"
   ]
  },
  {
   "cell_type": "markdown",
   "metadata": {},
   "source": [
    "## Clustering\n",
    "Vamos a iniciar con k=20, pero aquí, de preferencia, podrías utilizar el método que utilizamos antes para determinar K. Esto tardaría algo de tiempo en procesar."
   ]
  },
  {
   "cell_type": "code",
   "execution_count": null,
   "metadata": {},
   "outputs": [],
   "source": [
    "# 20 clusters\n",
    "predictions = KMeans(n_clusters=20, algorithm='full').fit_predict(sparse_ratings)"
   ]
  },
  {
   "cell_type": "code",
   "execution_count": null,
   "metadata": {},
   "outputs": [],
   "source": [
    "max_users = 70\n",
    "max_movies = 50\n",
    "\n",
    "clustered = pd.concat([most_rated_movies_1k.reset_index(), pd.DataFrame({'group':predictions})], axis=1)\n",
    "helper.draw_movie_clusters(clustered, max_users, max_movies)"
   ]
  },
  {
   "cell_type": "markdown",
   "metadata": {},
   "source": [
    "Hay varias cosas que notar\n",
    "* Lo más similares los ratings de un cluster son, podrás ver más líneas verticales con el mismo color.\n",
    "* Puedes encontrar patrones en los clusters:\n",
    "  * Algunos clusters están más esparcidos que otros, conteniendo personas que vieron y calificaron menos películas que en otros clusters.\n",
    "  * Algunos clusters son principalmente amarillos y tienen los usuarios que realmente les gusta un grupo de películas.\n",
    "  * Otros clusters son principalmente verde o azul marino. Estos contienen usuarios que están de acuerdo en que ciertos conjuntos de películas tienen 2-3 estrellas.\n",
    "  * Mira cómo las películas son diferentes en cada cluster. La gráfica filtra la información para mostrar únicamente las películas con más ratings y luego los ordena según promedio.\n",
    "* Si detectas líneas horizontales de colores similares, son usuarios que no tienen mucha variedad en sus ratings. Esta es una de las razones por las que Netflix cambió de un sistema basado en estrellas a un sistema basado en thumbs-up. Un rating de 4 estrellas significa diferentes cosas a diferentes personas.\n",
    "\n",
    "## Predicciones\n",
    "Vamos a agarrar un cluster y un usuario específico y veamos para qué nos sirve esto.\n",
    "\n",
    "Primero agarremos un cluster:"
   ]
  },
  {
   "cell_type": "code",
   "execution_count": null,
   "metadata": {},
   "outputs": [],
   "source": [
    "# TODO: Pick a cluster ID from the clusters above\n",
    "cluster_number = \n",
    "\n",
    "# Let's filter to only see the region of the dataset with the most number of values \n",
    "n_users = 75\n",
    "n_movies = 300\n",
    "cluster = clustered[clustered.group == cluster_number].drop(['index', 'group'], axis=1)\n",
    "\n",
    "cluster = helper.sort_by_rating_density(cluster, n_movies, n_users)\n",
    "helper.draw_movies_heatmap(cluster, axis_labels=False)"
   ]
  },
  {
   "cell_type": "code",
   "execution_count": null,
   "metadata": {},
   "outputs": [],
   "source": [
    "cluster.fillna('').head()"
   ]
  },
  {
   "cell_type": "markdown",
   "metadata": {},
   "source": [
    "Vamos a elegir una celda vacía de la tabla. Están vacías porque el usuario no calificó la película. ¿Podemos predecir si al usuario le gustó o no? Dado que el usuario está en un cluster con otros usuarios que parecen tener gustos similares, podemos tomar esto como ventaja y sacar el promedio de los ratings para esa película para predecir si le gustará o no."
   ]
  },
  {
   "cell_type": "code",
   "execution_count": null,
   "metadata": {},
   "outputs": [],
   "source": [
    "# TODO: Fill in the name of the column/movie. e.g. 'Forrest Gump (1994)'\n",
    "movie_name = \"\"\n",
    "\n",
    "cluster[movie_name].mean()"
   ]
  },
  {
   "cell_type": "markdown",
   "metadata": {},
   "source": [
    "## Recomendaciones\n",
    "Vamos a reiterar en lo que acabamos de hacer. Utilizamos k-means para hacer clusters de usuarios según los ratings. Esto nos llevo a hacer clusters de usuarios con ratings similares y así generalizando gustos similares de películas. Basado en esto, cuando un usuario no tenía el puntaje de una película especifica, podíamos sacar el promedio en el cluster y predecir qué rating el usuario le daría. Usando esta lógica, podemos calcular el promedio de cada película del cluster y así entender cómo se siente el cluster para cada película."
   ]
  },
  {
   "cell_type": "code",
   "execution_count": null,
   "metadata": {},
   "outputs": [],
   "source": [
    "# The average rating of 20 movies as rated by the users in the cluster\n",
    "cluster.mean().head(20)"
   ]
  },
  {
   "cell_type": "markdown",
   "metadata": {},
   "source": [
    "Esto es muy útil para nosotros - podemos usar esto para un motor de recomendación que permite a los usuarios descubrir nuevas películas que les gustarán. Usamos las películas con rating más alto que el usuario no haya calificado todavía."
   ]
  },
  {
   "cell_type": "code",
   "execution_count": null,
   "metadata": {},
   "outputs": [],
   "source": [
    "# TODO: Pick a user ID from the dataset\n",
    "# Look at the table above outputted by the command \"cluster.fillna('').head()\" \n",
    "# and pick one of the user ids (the first column in the table)\n",
    "user_id = \n",
    "\n",
    "# Get all this user's ratings\n",
    "user_2_ratings  = cluster.loc[user_id, :]\n",
    "\n",
    "# Which movies did they not rate? (We don't want to recommend movies they've already rated)\n",
    "user_2_unrated_movies =  user_2_ratings[user_2_ratings.isnull()]\n",
    "\n",
    "# What are the ratings of these movies the user did not rate?\n",
    "avg_ratings = pd.concat([user_2_unrated_movies, cluster.mean()], axis=1, join='inner').loc[:,0]\n",
    "\n",
    "# Let's sort by rating so the highest rated movies are presented first\n",
    "avg_ratings.sort_values(ascending=False)[:20]"
   ]
  },
  {
   "cell_type": "code",
   "execution_count": null,
   "metadata": {},
   "outputs": [],
   "source": []
  }
 ],
 "metadata": {
  "kernelspec": {
   "display_name": "Python 3",
   "language": "python",
   "name": "python3"
  },
  "language_info": {
   "codemirror_mode": {
    "name": "ipython",
    "version": 3
   },
   "file_extension": ".py",
   "mimetype": "text/x-python",
   "name": "python",
   "nbconvert_exporter": "python",
   "pygments_lexer": "ipython3",
   "version": "3.5.4"
  }
 },
 "nbformat": 4,
 "nbformat_minor": 2
}

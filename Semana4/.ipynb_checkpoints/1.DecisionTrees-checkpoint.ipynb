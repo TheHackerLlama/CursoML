{
 "cells": [
  {
   "cell_type": "markdown",
   "metadata": {},
   "source": [
    "# Decision Trees\n",
    "En este cuaderno veremos cómo utilizar árboles de deciones. Iniciaremos con un ejemplo sencillo y luego volveremos a visitar el dataset del Titanic y lo resolveremos de una manera similar, pero esta vez se hará automáticamente con árboles de decisiones.\n",
    "\n",
    "[Documentación de Decision Trees](http://scikit-learn.org/stable/modules/generated/sklearn.tree.DecisionTreeClassifier.html#sklearn.tree.DecisionTreeClassifier)"
   ]
  },
  {
   "cell_type": "code",
   "execution_count": null,
   "metadata": {
    "collapsed": true
   },
   "outputs": [],
   "source": [
    "# Importamos Pandas y NumPy\n",
    "import pandas as pd\n",
    "import numpy as np\n",
    "\n",
    "# Cargamos la clase y las funciones de sklearn que utilizaremos.\n",
    "from sklearn.tree import DecisionTreeClassifier\n",
    "from sklearn.metrics import accuracy_score\n",
    "from sklearn.model_selection import train_test_split\n",
    "\n",
    "import matplotlib.pyplot as plt"
   ]
  },
  {
   "cell_type": "markdown",
   "metadata": {},
   "source": [
    "## Comprendemos la información"
   ]
  },
  {
   "cell_type": "code",
   "execution_count": null,
   "metadata": {
    "collapsed": true
   },
   "outputs": [],
   "source": [
    "def plot_class(data):\n",
    "    \"\"\"\n",
    "        Grafica información de dos clases\n",
    "    \"\"\"\n",
    "    groups = data.groupby('y')\n",
    "    fig, ax = plt.subplots()\n",
    "    ax.margins(0.05)\n",
    "    for name, group in groups:\n",
    "        ax.plot(group.x1, group.x2, marker='o', linestyle='', ms=12, label=name)\n",
    "    ax.legend()\n",
    "\n",
    "    plt.show()"
   ]
  },
  {
   "cell_type": "code",
   "execution_count": null,
   "metadata": {
    "collapsed": false
   },
   "outputs": [],
   "source": [
    "# Cargamos el archivo del csv y lo graficamos\n",
    "data = pd.read_csv(\"data/data1.csv\")\n",
    "plot_class(data)\n",
    "\n",
    "# Separamos en x y en y\n",
    "X = np.array(data[['x1', 'x2']])\n",
    "y = np.array(data['y'])\n",
    "\n",
    "# TODO: Haz un split de 20% para el test set utilizando train_test_split\n",
    "X_train, X_test, y_train, y_test = ..."
   ]
  },
  {
   "cell_type": "code",
   "execution_count": null,
   "metadata": {
    "collapsed": true
   },
   "outputs": [],
   "source": [
    "# TODO: Crea un clasificador de Decision Trees y asignalo al modelo\n",
    "model = ...\n",
    "\n",
    "# TODO: Haz un fit con la info\n",
    "...\n",
    "\n",
    "# TODO: Guarda la predicción\n",
    "y_pred = ...\n",
    "\n",
    "# TODO: Revisa la precisión del modelo.\n",
    "acc = ..."
   ]
  },
  {
   "cell_type": "code",
   "execution_count": null,
   "metadata": {
    "collapsed": false
   },
   "outputs": [],
   "source": [
    "acc"
   ]
  },
  {
   "cell_type": "markdown",
   "metadata": {},
   "source": [
    "# Titanic\n",
    "\n",
    "Ahora volveremos a visitar el problema del Titanic. Te sugiero revisar el cuaderno de la primera semana antes de iniciar esta sección."
   ]
  },
  {
   "cell_type": "code",
   "execution_count": null,
   "metadata": {
    "collapsed": false
   },
   "outputs": [],
   "source": [
    "# Cargamos data\n",
    "full_data = pd.read_csv(\"data/titanic.csv\")\n",
    "\n",
    "full_data.head()"
   ]
  },
  {
   "cell_type": "markdown",
   "metadata": {},
   "source": [
    "Estos son los features que tenemos para cada pasajero:\n",
    "\n",
    "* Survived: Si sobrevivió (0 = No; 1 = Yes)\n",
    "* Pclass: Clase socioeconómica (1 = Upper class; 2 = Middle class; 3 = Lower class)\n",
    "* Name: Nombre del pasajero\n",
    "* Sex: Sexo del pasajero\n",
    "* Age: Edad del pasajero (Algunas entradas tienen NaN)\n",
    "* SibSp: Número de hermanos y esposo/as a bordo.\n",
    "* Parch: Número de parientes e hijos a bordo.\n",
    "* Ticket: El número del ticket del pasajero\n",
    "* Fare: Cuánto se pagó por el ticket\n",
    "* Cabin: Número de cabina (Algunas entradas tienen NaN)\n",
    "* Embarked: Puerto de embarcación (C = Cherbourg; Q = Queenstown; S = Southampton)\n",
    "\n",
    "Como nos interesa saber el outcome, o lo que ocurrió con el pasajero (si sobrevivió), podemos separar la info en X y Y."
   ]
  },
  {
   "cell_type": "code",
   "execution_count": null,
   "metadata": {
    "collapsed": false
   },
   "outputs": [],
   "source": [
    "# Guardamos la columna 'Survived' y la quitamos del dataset\n",
    "outcomes = full_data['Survived']\n",
    "features_raw = full_data.drop('Survived', axis = 1)\n",
    "\n",
    "# Mustra el nuevo dataset con la columna 'Survived' fuera\n",
    "features_raw.head()"
   ]
  },
  {
   "cell_type": "markdown",
   "metadata": {},
   "source": [
    "### Preprocesamiento\n",
    "Primero hacemos one-hot encoding. Revisa el primer ejemplo de \n",
    "https://pandas.pydata.org/pandas-docs/stable/generated/pandas.get_dummies.html"
   ]
  },
  {
   "cell_type": "code",
   "execution_count": null,
   "metadata": {
    "collapsed": false
   },
   "outputs": [],
   "source": [
    "features = pd.get_dummies(features_raw)"
   ]
  },
  {
   "cell_type": "code",
   "execution_count": null,
   "metadata": {
    "collapsed": false
   },
   "outputs": [],
   "source": [
    "# Llenamos de espacios vacíos con 0s\n",
    "\n",
    "features = features.fillna(0.0)\n",
    "features.head()"
   ]
  },
  {
   "cell_type": "markdown",
   "metadata": {},
   "source": [
    "Separa la información en X_train, X_test, y_train y y_test utilizando el método ```train_test_split```. Usa un tamaño de 20% para el testing set. Aquí usaremos el testing set para validar, pero recuerda que normalmente no debemos hacer eso. \n",
    "\n",
    "Si quieres agregar validation set, una vez que ya lo tengas separado en training y testing, vuelve a sacar otro 20% del training y utiliza eso como validation. \n",
    "\n",
    "Una vez que hayas hecho eso:\n",
    "* Crea un modelo con ```DecisionTreeeClassifier```. Define sus hiperparametros, como ```max_depth```, ```min_samples_leaf``` y ```min_samples_split```. Revisa la [documentación](http://scikit-learn.org/stable/modules/generated/sklearn.tree.DecisionTreeClassifier.html) para ver qué es cada hiperparámetro.\n",
    "* Utiliza ```model.fit``` para hacer un fit del training data\n",
    "* Utiliza ```model.predict``` sobre el training y testing set (y si hiciste del validation, igual).\n",
    "* Utiliza ```accuracy_score``` para ver el accuracy con el y_train, y_test y y_validation si tienes.\n",
    "* Impríme esos valores para ver qué tan bien lo hizo tu modelo."
   ]
  },
  {
   "cell_type": "code",
   "execution_count": null,
   "metadata": {
    "collapsed": false
   },
   "outputs": [],
   "source": [
    "X_train, X_test, y_train, y_test = train_test_split(features, outcomes, test_size=0.2)"
   ]
  },
  {
   "cell_type": "code",
   "execution_count": null,
   "metadata": {
    "collapsed": false
   },
   "outputs": [],
   "source": [
    "# TODO: Pon tu código aquí"
   ]
  },
  {
   "cell_type": "code",
   "execution_count": null,
   "metadata": {
    "collapsed": true
   },
   "outputs": [],
   "source": [
    "print('The training accuracy is', train_accuracy)\n",
    "print('The training accuracy is', test_accuracy)"
   ]
  }
 ],
 "metadata": {
  "kernelspec": {
   "display_name": "Python 3",
   "language": "python",
   "name": "python3"
  },
  "language_info": {
   "codemirror_mode": {
    "name": "ipython",
    "version": 3
   },
   "file_extension": ".py",
   "mimetype": "text/x-python",
   "name": "python",
   "nbconvert_exporter": "python",
   "pygments_lexer": "ipython3",
   "version": "3.6.0"
  }
 },
 "nbformat": 4,
 "nbformat_minor": 2
}
